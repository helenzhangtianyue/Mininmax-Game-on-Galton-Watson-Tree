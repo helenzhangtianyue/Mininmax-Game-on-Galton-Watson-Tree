{
 "cells": [
  {
   "cell_type": "code",
   "execution_count": 12,
   "metadata": {},
   "outputs": [],
   "source": [
    "import numpy as np"
   ]
  },
  {
   "cell_type": "code",
   "execution_count": 13,
   "metadata": {},
   "outputs": [],
   "source": [
    "def partition ( number ):\n",
    "    answer = set ()\n",
    "    answer .add (( number , ))\n",
    "    for x in range (1, number ):\n",
    "        for y in partition ( number - x):\n",
    "            answer . add( tuple ( sorted ((x, ) + y )))\n",
    "    return list ( answer )"
   ]
  },
  {
   "cell_type": "code",
   "execution_count": 14,
   "metadata": {},
   "outputs": [],
   "source": [
    "def partition_number ( number ):\n",
    "    return len( partition ( number ))\n",
    "def faa_di_bruno_coeff ( order ):\n",
    "    n = sum( order )\n",
    "    count = np. zeros (n+1)\n",
    "    for i in range (n +1):\n",
    "        count [i] = order . count (i)\n",
    "    answer = math . factorial (n)\n",
    "    for i in range (n +1):\n",
    "        answer = answer /( math . factorial ( count [i]) * math . factorial (i )**( count [i ]))\n",
    "    return int( answer )"
   ]
  },
  {
   "cell_type": "code",
   "execution_count": 15,
   "metadata": {},
   "outputs": [],
   "source": [
    "def taylor_Fx ( derivatives , k):\n",
    "    answer = var('q')\n",
    "    for i in range (k):\n",
    "        answer = answer + var('x')**( i +1)* derivatives [i ]/( math . factorial (i +1))\n",
    "    return answer"
   ]
  },
  {
   "cell_type": "code",
   "execution_count": 16,
   "metadata": {},
   "outputs": [],
   "source": [
    "def taylor_Fxoverf1 ( derivatives , k):\n",
    "    answer = var('q')\n",
    "    for i in range (k):\n",
    "        answer = answer + var('x')**( i +1)* derivatives [i ]/( math . factorial (i +1)* f1 **(i +1))\n",
    "    return answer"
   ]
  },
  {
   "cell_type": "code",
   "execution_count": 17,
   "metadata": {},
   "outputs": [],
   "source": [
    "def fx(x,d):\n",
    "    return 1-(1-x**d )**d"
   ]
  }
   ],
   "source": [
    "d = 6\n",
    "derivatives_F = [var('f1 ')* var('F1 ')]\n",
    "derivatives_F_0 = [1]\n",
    "for i in range (2,d):\n",
    "    terms = 0\n",
    "    orders = partition (i)\n",
    "    for order in orders :\n",
    "        if len( order ) is not 1:\n",
    "            term = 1\n",
    "            term = term * var('f'+ str( len( order )))\n",
    "            for power in order :\n",
    "                # term = term * var('F '+str( power ))\n",
    "                term = term * derivatives_F_0 [power -1]\n",
    "            term = term * faa_di_bruno_coeff ( order )\n",
    "            terms = terms + term\n",
    "terms = terms / (var('f1 ')**i-var('f1 '))\n",
    "derivatives_F_0 . append ( terms )"
   ]
  },
  {
   "cell_type": "code",
   "execution_count": null,
   "metadata": {},
   "outputs": [],
   "source": []
  }
 ],
 "metadata": {
  "kernelspec": {
   "display_name": "Python 3",
   "language": "python",
   "name": "python3"
  },
  "language_info": {
   "codemirror_mode": {
    "name": "ipython",
    "version": 3
   },
   "file_extension": ".py",
   "mimetype": "text/x-python",
   "name": "python",
   "nbconvert_exporter": "python",
   "pygments_lexer": "ipython3",
   "version": "3.7.6"
  }
 },
 "nbformat": 4,
 "nbformat_minor": 4
}
